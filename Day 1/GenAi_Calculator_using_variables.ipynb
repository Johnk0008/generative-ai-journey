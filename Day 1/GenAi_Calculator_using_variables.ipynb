{
 "cells": [
  {
   "cell_type": "markdown",
   "id": "835aa5a2-adf8-41fd-96b6-44257041e160",
   "metadata": {},
   "source": [
    "# Simple calculator Using Variables in Python"
   ]
  },
  {
   "cell_type": "code",
   "execution_count": 6,
   "id": "731e8221-9dc6-4f48-8779-db856ccf6c54",
   "metadata": {},
   "outputs": [
    {
     "name": "stdin",
     "output_type": "stream",
     "text": [
      "Enter first number:  34\n",
      "Enter second number:  56\n"
     ]
    },
    {
     "name": "stdout",
     "output_type": "stream",
     "text": [
      "Addition: 90.0\n",
      "Subtraction: -22.0\n",
      "Multiplication: 1904.0\n",
      "Division: 0.6071428571428571\n",
      "Floor Division: 0.0\n",
      "Modulus: 34.0\n",
      "Exponentiation: 5.791877320528713e+85\n"
     ]
    }
   ],
   "source": [
    "# Enter Any Number like calculator\n",
    "num1 = float(input(\"Enter first number: \"))\n",
    "num2 = float(input(\"Enter second number: \"))\n",
    "\n",
    "# Performing arithmetic operations\n",
    "addition = num1 + num2\n",
    "subtraction = num1 - num2\n",
    "multiplication = num1 * num2\n",
    "division = num1 / num2\n",
    "floor_division = num1 // num2\n",
    "modulus = num1 % num2\n",
    "exponentiation = num1 ** num2\n",
    "\n",
    "# Displaying results\n",
    "print(\"Addition:\", addition)\n",
    "print(\"Subtraction:\", subtraction)\n",
    "print(\"Multiplication:\", multiplication)\n",
    "print(\"Division:\", division)\n",
    "print(\"Floor Division:\", floor_division)\n",
    "print(\"Modulus:\", modulus)\n",
    "print(\"Exponentiation:\", exponentiation)"
   ]
  },
  {
   "cell_type": "code",
   "execution_count": null,
   "id": "dde54151-eabd-405a-a002-6888a9e4d488",
   "metadata": {},
   "outputs": [],
   "source": []
  }
 ],
 "metadata": {
  "kernelspec": {
   "display_name": "Python [conda env:genaijohn]",
   "language": "python",
   "name": "conda-env-genaijohn-py"
  },
  "language_info": {
   "codemirror_mode": {
    "name": "ipython",
    "version": 3
   },
   "file_extension": ".py",
   "mimetype": "text/x-python",
   "name": "python",
   "nbconvert_exporter": "python",
   "pygments_lexer": "ipython3",
   "version": "3.8.20"
  }
 },
 "nbformat": 4,
 "nbformat_minor": 5
}
