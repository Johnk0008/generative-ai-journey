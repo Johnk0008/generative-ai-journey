{
 "cells": [
  {
   "cell_type": "markdown",
   "id": "21846a74-b2e2-47ed-8c8f-322eb582f359",
   "metadata": {},
   "source": [
    "# Collecting User Feedback"
   ]
  },
  {
   "cell_type": "markdown",
   "id": "401f90fe-ab28-4c25-9872-c64e161eef82",
   "metadata": {},
   "source": [
    "### - Use a list to collect and analyze user feedback."
   ]
  },
  {
   "cell_type": "code",
   "execution_count": 6,
   "id": "a001ada9-4c8e-4068-9aa6-2e1ea18f496e",
   "metadata": {},
   "outputs": [],
   "source": [
    "# Collecting user feedback\n",
    "feedback = [\"Great service!\", \"Very satisfied\", \"Could be better\", \"Excellent experience\"]"
   ]
  },
  {
   "cell_type": "code",
   "execution_count": 7,
   "id": "d2f15eaa-3907-4228-9808-6e48f2e196da",
   "metadata": {},
   "outputs": [],
   "source": [
    "# Adding new feedback\n",
    "feedback.append(\"Not happy with the service\")"
   ]
  },
  {
   "cell_type": "code",
   "execution_count": 8,
   "id": "084c23ad-676c-46be-84dc-67166ef034bc",
   "metadata": {},
   "outputs": [
    {
     "name": "stdout",
     "output_type": "stream",
     "text": [
      "Positive Feedback Count: 2\n"
     ]
    }
   ],
   "source": [
    "# Counting specific feedback\n",
    "positive_feedback_count = sum(1 for comment in feedback if \"great\" in comment.lower() or \"excellent\" in comment.lower())\n",
    "print(f\"Positive Feedback Count: {positive_feedback_count}\")"
   ]
  },
  {
   "cell_type": "code",
   "execution_count": 9,
   "id": "a3441583-6520-42f3-b06e-6312d7701d98",
   "metadata": {},
   "outputs": [
    {
     "name": "stdout",
     "output_type": "stream",
     "text": [
      "User Feedback:\n",
      "- Great service!\n",
      "- Very satisfied\n",
      "- Could be better\n",
      "- Excellent experience\n",
      "- Not happy with the service\n"
     ]
    }
   ],
   "source": [
    "# Printing all feedback\n",
    "print(\"User Feedback:\")\n",
    "for comment in feedback:\n",
    "    print(f\"- {comment}\")"
   ]
  },
  {
   "cell_type": "code",
   "execution_count": null,
   "id": "e64816ce-d81e-47d1-9067-8a42d5fb0491",
   "metadata": {},
   "outputs": [],
   "source": []
  }
 ],
 "metadata": {
  "kernelspec": {
   "name": "conda-env-env-py"
  },
  "language_info": {
   "codemirror_mode": {
    "name": "ipython",
    "version": 3
   },
   "file_extension": ".py",
   "mimetype": "text/x-python",
   "name": "python",
   "nbconvert_exporter": "python",
   "pygments_lexer": "ipython3",
   "version": "3.8.20"
  }
 },
 "nbformat": 4,
 "nbformat_minor": 5
}
