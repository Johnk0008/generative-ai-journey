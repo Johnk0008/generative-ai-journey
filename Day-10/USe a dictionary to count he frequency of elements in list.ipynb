{
 "cells": [
  {
   "cell_type": "markdown",
   "id": "5450a2b2-1074-4071-9f4d-0ecec6e32084",
   "metadata": {},
   "source": [
    "# USe a dictionary to count he frequency of elements in list"
   ]
  },
  {
   "cell_type": "code",
   "execution_count": 12,
   "id": "12dd976d-5664-40ef-b341-d5fb9680a190",
   "metadata": {},
   "outputs": [],
   "source": [
    "numbers=[1,2,2,3,3,3,4,4,4,4]\n",
    "frequency={}"
   ]
  },
  {
   "cell_type": "code",
   "execution_count": 13,
   "id": "6ad4ab5c-0d4c-406c-b1bc-e099bbfb2614",
   "metadata": {},
   "outputs": [
    {
     "name": "stdout",
     "output_type": "stream",
     "text": [
      "{1: 1, 2: 2, 3: 3, 4: 4}\n"
     ]
    }
   ],
   "source": [
    "for number in numbers:\n",
    "    if number in frequency:\n",
    "        frequency[number]+=1\n",
    "    else:\n",
    "        frequency[number]=1\n",
    "print(frequency)"
   ]
  },
  {
   "cell_type": "markdown",
   "id": "ca371e8e-ea45-4300-9d8c-fc1e9b9a582f",
   "metadata": {},
   "source": [
    "# Merge 2 dictionaries into one"
   ]
  },
  {
   "cell_type": "code",
   "execution_count": 14,
   "id": "ffa108a9-45ea-446a-8f0c-97cfc8f3aa36",
   "metadata": {},
   "outputs": [],
   "source": [
    "dict1={\"a\":1,\"b\":2}\n",
    "dict2={\"b\":3,\"c\":4}"
   ]
  },
  {
   "cell_type": "code",
   "execution_count": 15,
   "id": "d12515d1-9011-450d-8cbd-96f6b6e51f7b",
   "metadata": {},
   "outputs": [
    {
     "name": "stdout",
     "output_type": "stream",
     "text": [
      "{'a': 1, 'b': 3, 'c': 4}\n"
     ]
    }
   ],
   "source": [
    "merged_dict={**dict1,**dict2}\n",
    "print(merged_dict)"
   ]
  },
  {
   "cell_type": "code",
   "execution_count": null,
   "id": "516605f0-59d5-4a6d-9c8c-6f49e803401d",
   "metadata": {},
   "outputs": [],
   "source": []
  }
 ],
 "metadata": {
  "kernelspec": {
   "name": "conda-env-env-py"
  },
  "language_info": {
   "codemirror_mode": {
    "name": "ipython",
    "version": 3
   },
   "file_extension": ".py",
   "mimetype": "text/x-python",
   "name": "python",
   "nbconvert_exporter": "python",
   "pygments_lexer": "ipython3",
   "version": "3.8.20"
  }
 },
 "nbformat": 4,
 "nbformat_minor": 5
}
