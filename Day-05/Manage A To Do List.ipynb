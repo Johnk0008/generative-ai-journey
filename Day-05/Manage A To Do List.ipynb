{
 "cells": [
  {
   "cell_type": "markdown",
   "id": "286dd639-d6c8-428d-9a16-0d79f7f79534",
   "metadata": {},
   "source": [
    "# Manage A To Do List"
   ]
  },
  {
   "cell_type": "markdown",
   "id": "2ed6c569-4911-44bf-a907-a9664d2e8099",
   "metadata": {},
   "source": [
    "## - Create a To Do List To Keep Track OF Tasks"
   ]
  },
  {
   "cell_type": "code",
   "execution_count": 66,
   "id": "20d2fe68-80a1-49eb-90de-72d3f56ca914",
   "metadata": {},
   "outputs": [],
   "source": [
    "to_do_list=[\"Buy Groceries\",\"Clean the house\",\"Pay bills\"]"
   ]
  },
  {
   "cell_type": "code",
   "execution_count": 67,
   "id": "e97f2429-54a1-498c-9fbe-173530e1bae8",
   "metadata": {},
   "outputs": [],
   "source": [
    "## Adding to task\n",
    "to_do_list.append(\"Schedule meeting\")\n",
    "to_do_list.append(\"Go For a Run\")"
   ]
  },
  {
   "cell_type": "code",
   "execution_count": 68,
   "id": "e99439db-e65a-4e0d-97c1-50f6fec4c2d2",
   "metadata": {},
   "outputs": [],
   "source": [
    "## Removing a completed task\n",
    "to_do_list.remove(\"Clean the house\")"
   ]
  },
  {
   "cell_type": "code",
   "execution_count": 71,
   "id": "2713954b-9340-47fb-8a94-409e6cd6f4b9",
   "metadata": {},
   "outputs": [
    {
     "name": "stdout",
     "output_type": "stream",
     "text": [
      "Don't forgrt to pay the utility bills\n"
     ]
    }
   ],
   "source": [
    "## checking if a task is in the list\n",
    "if \"Pay bills\" in to_do_list:\n",
    "    print(\"Don't forgrt to pay the utility bills\")"
   ]
  },
  {
   "cell_type": "code",
   "execution_count": 73,
   "id": "ddcf779b-d715-4815-a263-90ea73d372eb",
   "metadata": {},
   "outputs": [
    {
     "name": "stdout",
     "output_type": "stream",
     "text": [
      "To Do List remaining\n",
      "-Buy Groceries\n",
      "-Pay bills\n",
      "-Schedule meeting\n",
      "-Go For a Run\n"
     ]
    }
   ],
   "source": [
    "print(\"To Do List remaining\")\n",
    "\n",
    "for task in to_do_list:\n",
    "    print(f\"-{task}\")"
   ]
  },
  {
   "cell_type": "code",
   "execution_count": null,
   "id": "6aadc323-9eac-4dd3-aa86-4f681be107b1",
   "metadata": {},
   "outputs": [],
   "source": []
  }
 ],
 "metadata": {
  "kernelspec": {
   "name": "conda-env-env-py"
  },
  "language_info": {
   "codemirror_mode": {
    "name": "ipython",
    "version": 3
   },
   "file_extension": ".py",
   "mimetype": "text/x-python",
   "name": "python",
   "nbconvert_exporter": "python",
   "pygments_lexer": "ipython3",
   "version": "3.8.20"
  }
 },
 "nbformat": 4,
 "nbformat_minor": 5
}
