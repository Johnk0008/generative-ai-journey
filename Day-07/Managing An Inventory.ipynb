{
 "cells": [
  {
   "cell_type": "markdown",
   "id": "146edcc0-d5ab-48df-b762-cfcd7d7df084",
   "metadata": {},
   "source": [
    "# Managing An Inventory\n"
   ]
  },
  {
   "cell_type": "markdown",
   "id": "8a811499-7d5c-452f-87a1-33cffa433358",
   "metadata": {},
   "source": [
    "#### - Use a list to manage inventory items in a store"
   ]
  },
  {
   "cell_type": "code",
   "execution_count": 1,
   "id": "781b0a91-99c0-4726-a82d-feb61c6edde1",
   "metadata": {},
   "outputs": [],
   "source": [
    "# Managing an inventory\n",
    "inventory = [\"apples\", \"bananas\", \"oranges\", \"grapes\"]"
   ]
  },
  {
   "cell_type": "code",
   "execution_count": 2,
   "id": "b1531ead-5785-4505-beb8-20dabf150d7f",
   "metadata": {},
   "outputs": [],
   "source": [
    "# Adding a new item\n",
    "inventory.append(\"strawberries\")"
   ]
  },
  {
   "cell_type": "code",
   "execution_count": 3,
   "id": "0d7a1393-5a9f-45b1-931c-3ca1f2d4ea58",
   "metadata": {},
   "outputs": [],
   "source": [
    "# Removing an item that is out of stock\n",
    "inventory.remove(\"bananas\")"
   ]
  },
  {
   "cell_type": "code",
   "execution_count": 4,
   "id": "c577e8ef-ca0e-449f-9843-deddb1a5c0a3",
   "metadata": {},
   "outputs": [
    {
     "name": "stdout",
     "output_type": "stream",
     "text": [
      "oranges are in stock.\n"
     ]
    }
   ],
   "source": [
    "# Checking if an item is in stock\n",
    "item = \"oranges\"\n",
    "if item in inventory:\n",
    "    print(f\"{item} are in stock.\")\n",
    "else:\n",
    "    print(f\"{item} are out of stock.\")"
   ]
  },
  {
   "cell_type": "code",
   "execution_count": 5,
   "id": "293d81a0-13ad-4d18-a7f4-72650b0bbbc6",
   "metadata": {},
   "outputs": [
    {
     "name": "stdout",
     "output_type": "stream",
     "text": [
      "Inventory List:\n",
      "- apples\n",
      "- oranges\n",
      "- grapes\n",
      "- strawberries\n"
     ]
    }
   ],
   "source": [
    "# Printing the inventory\n",
    "print(\"Inventory List:\")\n",
    "for item in inventory:\n",
    "    print(f\"- {item}\")"
   ]
  },
  {
   "cell_type": "code",
   "execution_count": null,
   "id": "ed5ac50d-e4c3-4ee7-9dd2-11127141464b",
   "metadata": {},
   "outputs": [],
   "source": []
  }
 ],
 "metadata": {
  "kernelspec": {
   "name": "conda-env-env-py"
  },
  "language_info": {
   "codemirror_mode": {
    "name": "ipython",
    "version": 3
   },
   "file_extension": ".py",
   "mimetype": "text/x-python",
   "name": "python",
   "nbconvert_exporter": "python",
   "pygments_lexer": "ipython3",
   "version": "3.8.20"
  }
 },
 "nbformat": 4,
 "nbformat_minor": 5
}
