{
 "cells": [
  {
   "cell_type": "markdown",
   "id": "f33b5290-a75c-46a9-a89f-df5c06c553c3",
   "metadata": {},
   "source": [
    "## Determine the ticket price based on age and whether the person is a student."
   ]
  },
  {
   "cell_type": "markdown",
   "id": "769e7020-9bed-43a4-b65f-1ea198599ad9",
   "metadata": {},
   "source": [
    "### Ticket pricing based on age and student status"
   ]
  },
  {
   "cell_type": "code",
   "execution_count": 1,
   "id": "66d769c5-6261-4350-8acb-45fdba8d5cc5",
   "metadata": {},
   "outputs": [
    {
     "name": "stdin",
     "output_type": "stream",
     "text": [
      "Enter your age:  34\n",
      "Are you a student? (yes/no):  YES\n"
     ]
    },
    {
     "name": "stdout",
     "output_type": "stream",
     "text": [
      "Ticket Price: $18\n"
     ]
    }
   ],
   "source": [
    "# Take user input\n",
    "age = int(input(\"Enter your age: \"))\n",
    "is_student = input(\"Are you a student? (yes/no): \").lower()\n",
    "\n",
    "# Determine ticket price\n",
    "if age < 5:\n",
    "    price = \"Free\"\n",
    "elif age <= 12:\n",
    "    price = \"$10\"\n",
    "elif age <= 17:\n",
    "    if is_student == 'yes':\n",
    "        price = \"$12\"\n",
    "    else:\n",
    "        price = \"$15\"\n",
    "elif age <= 64:\n",
    "    if is_student == 'yes':\n",
    "        price = \"$18\"\n",
    "    else:\n",
    "        price = \"$25\"\n",
    "else:\n",
    "    price = \"$20\"\n",
    "print(\"Ticket Price:\", price)"
   ]
  },
  {
   "cell_type": "code",
   "execution_count": null,
   "id": "5f8ba85b-243a-4b70-854a-5d944ccb2ec7",
   "metadata": {},
   "outputs": [],
   "source": []
  }
 ],
 "metadata": {
  "kernelspec": {
   "display_name": "Python [conda env:genaijohn]",
   "language": "python",
   "name": "conda-env-genaijohn-py"
  },
  "language_info": {
   "codemirror_mode": {
    "name": "ipython",
    "version": 3
   },
   "file_extension": ".py",
   "mimetype": "text/x-python",
   "name": "python",
   "nbconvert_exporter": "python",
   "pygments_lexer": "ipython3",
   "version": "3.8.20"
  }
 },
 "nbformat": 4,
 "nbformat_minor": 5
}
