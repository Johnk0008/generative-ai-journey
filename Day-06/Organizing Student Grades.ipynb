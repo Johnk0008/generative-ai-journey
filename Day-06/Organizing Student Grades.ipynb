{
 "cells": [
  {
   "cell_type": "markdown",
   "id": "04b121d3-384a-4cc2-b8b2-9709bb2ed369",
   "metadata": {},
   "source": [
    "# Organizing Student Grades"
   ]
  },
  {
   "cell_type": "markdown",
   "id": "b6723e05-7a5f-4dda-aed5-298300ad8a35",
   "metadata": {},
   "source": [
    "### - Create a list to store and calculate average grades for students"
   ]
  },
  {
   "cell_type": "markdown",
   "id": "a0083825-9885-40ed-ac9d-d9639cbf204b",
   "metadata": {},
   "source": [
    "#### Organizing student grades"
   ]
  },
  {
   "cell_type": "code",
   "execution_count": 75,
   "id": "cdaa0cfa-e82a-4782-b4e5-13a181fb6740",
   "metadata": {},
   "outputs": [],
   "source": [
    "grades = [85, 92, 78, 90, 88]"
   ]
  },
  {
   "cell_type": "markdown",
   "id": "1f3fe0c5-4cee-4432-a21f-6795104d5a13",
   "metadata": {},
   "source": [
    "#### Adding a new grade"
   ]
  },
  {
   "cell_type": "code",
   "execution_count": 77,
   "id": "49e6484f-e621-47e0-aacd-6e2345f8bfd5",
   "metadata": {},
   "outputs": [],
   "source": [
    "grades.append(95)"
   ]
  },
  {
   "cell_type": "markdown",
   "id": "7e8e0bdf-1a64-496f-9fc9-1a447c85b32c",
   "metadata": {},
   "source": [
    "#### Calculating the average grade"
   ]
  },
  {
   "cell_type": "code",
   "execution_count": 78,
   "id": "81c837b8-abeb-4efd-8993-b3407788661c",
   "metadata": {},
   "outputs": [
    {
     "name": "stdout",
     "output_type": "stream",
     "text": [
      "Average Grade: 89.00\n"
     ]
    }
   ],
   "source": [
    "average_grade = sum(grades) / len(grades)\n",
    "print(f\"Average Grade: {average_grade:.2f}\")"
   ]
  },
  {
   "cell_type": "markdown",
   "id": "eb1ef735-59a4-43b3-8b99-c2559605210c",
   "metadata": {},
   "source": [
    "#### Finding the highest and lowest grades"
   ]
  },
  {
   "cell_type": "code",
   "execution_count": 79,
   "id": "ea18c374-3323-4132-9d25-4c2b94c7e4ba",
   "metadata": {},
   "outputs": [
    {
     "name": "stdout",
     "output_type": "stream",
     "text": [
      "Highest Grade: 95\n",
      "Lowest Grade: 78\n"
     ]
    }
   ],
   "source": [
    "highest_grade = max(grades)\n",
    "lowest_grade = min(grades)\n",
    "print(f\"Highest Grade: {highest_grade}\")\n",
    "print(f\"Lowest Grade: {lowest_grade}\")"
   ]
  },
  {
   "cell_type": "code",
   "execution_count": null,
   "id": "6d268815-15b4-4658-a3d0-0a9d2c32d1eb",
   "metadata": {},
   "outputs": [],
   "source": []
  }
 ],
 "metadata": {
  "kernelspec": {
   "name": "conda-env-env-py"
  },
  "language_info": {
   "codemirror_mode": {
    "name": "ipython",
    "version": 3
   },
   "file_extension": ".py",
   "mimetype": "text/x-python",
   "name": "python",
   "nbconvert_exporter": "python",
   "pygments_lexer": "ipython3",
   "version": "3.8.20"
  }
 },
 "nbformat": 4,
 "nbformat_minor": 5
}
