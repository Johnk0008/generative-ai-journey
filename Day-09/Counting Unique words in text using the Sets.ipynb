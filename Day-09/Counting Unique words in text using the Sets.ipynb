{
 "cells": [
  {
   "cell_type": "markdown",
   "id": "16643674-434a-471e-a6e0-2b523eead8ac",
   "metadata": {},
   "source": [
    "# Counting Unique words in text using the Sets\n",
    "\n"
   ]
  },
  {
   "cell_type": "code",
   "execution_count": 10,
   "id": "7b5743a7-bccd-474e-868b-8a550b169db4",
   "metadata": {},
   "outputs": [],
   "source": [
    "text=\"In this tutorial we are discussing about sets\"\n",
    "words=text.split()"
   ]
  },
  {
   "cell_type": "markdown",
   "id": "dec8ccfe-2e7a-40f4-9f24-f10ac5ee564a",
   "metadata": {},
   "source": [
    "### convert list of words to set to get unique words"
   ]
  },
  {
   "cell_type": "code",
   "execution_count": 11,
   "id": "ad5d8bb8-887f-40ea-8e90-eca2cdc22766",
   "metadata": {},
   "outputs": [
    {
     "name": "stdout",
     "output_type": "stream",
     "text": [
      "{'tutorial', 'sets', 'we', 'are', 'this', 'about', 'In', 'discussing'}\n",
      "8\n"
     ]
    }
   ],
   "source": [
    "unique_words=set(words)\n",
    "print(unique_words)\n",
    "print(len(unique_words))"
   ]
  },
  {
   "cell_type": "code",
   "execution_count": null,
   "id": "de1fc22f-98ad-42ac-86c2-aba07244ef9d",
   "metadata": {},
   "outputs": [],
   "source": []
  }
 ],
 "metadata": {
  "kernelspec": {
   "name": "conda-env-env-py"
  },
  "language_info": {
   "codemirror_mode": {
    "name": "ipython",
    "version": 3
   },
   "file_extension": ".py",
   "mimetype": "text/x-python",
   "name": "python",
   "nbconvert_exporter": "python",
   "pygments_lexer": "ipython3",
   "version": "3.8.20"
  }
 },
 "nbformat": 4,
 "nbformat_minor": 5
}
